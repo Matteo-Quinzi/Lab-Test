{
 "cells": [
  {
   "cell_type": "code",
   "execution_count": null,
   "metadata": {},
   "outputs": [],
   "source": [
    "import numpy as np \n",
    "import matplotlib.pyplot as plt \n",
    "# matplotlib notebook    # for notebook\n",
    "%matplotlib inline   # for VS Code"
   ]
  },
  {
   "cell_type": "markdown",
   "metadata": {},
   "source": [
    "Alcune variabili definite nel primo blocco vengono richiamate anche nei blocchi successivi"
   ]
  },
  {
   "cell_type": "code",
   "execution_count": null,
   "metadata": {},
   "outputs": [],
   "source": [
    "#Eigenvalues in x space \n",
    "data = np.loadtxt('../Output/eigenvalues.txt')\n",
    "idxs = data[:,0]\n",
    "n_s = 10                        # number of states to show (in both x and k space)\n",
    "#n_s = len(idxs)                 # uncomment this to show all states\n",
    "eva_x = data[:,1]\n",
    "#\n",
    "# Eigenfunctions in x_space \n",
    "data = np.loadtxt('../Output/pot.txt')\n",
    "x = data[:,0]\n",
    "V_x = data[:,1]\n",
    "\n",
    "data = np.loadtxt('../Output/eigenvectors.txt')\n",
    "waves = data[:,1:]\n",
    "fig, ax = plt.subplots()\n",
    "#\n",
    "_ = ax.set_title('Direct space eigenfunctions')\n",
    "_ = ax.set_xlabel(r'$x$')\n",
    "_ = ax.set_ylabel(r'$E$')\n",
    "y_inf = np.amin(V_x) - 0.02 ; y_sup = eva_x[n_s -1] + 2.0 \n",
    "_ = ax.set_ylim(y_inf, y_sup)\n",
    "_ = ax.plot(x, V_x)\n",
    "ff = ( eva_x[1] - eva_x[0] ) * 0.3\n",
    "for i in range(n_s):\n",
    "    _ = ax.axhline(y = eva_x[i], lw=0.5, color='cadetblue')\n",
    "    _ = ax.plot(x, eva_x[i] + ff*waves[:,i] , color= 'cadetblue')\n",
    "plt.show()\n",
    "#fig.savefig('waves_x.png')"
   ]
  },
  {
   "cell_type": "code",
   "execution_count": null,
   "metadata": {},
   "outputs": [],
   "source": [
    "# Eigenvalues comparison \n",
    "plt.close('all')\n",
    "fig, ax = plt.subplots(1,2, figsize=(9,6))\n",
    "plt.subplots_adjust(wspace=0.3)\n",
    "data = np.loadtxt('../Output/eigenvalues_k.txt')\n",
    "eva_k = data[:,1]\n",
    "_ = ax[0].set_title(' Eigenvalues confrontation')\n",
    "_ = ax[0].set_xlabel(' State index')\n",
    "_ = ax[0].set_ylabel(r'$E/E_0$')\n",
    "_ = ax[0].plot(idxs[:n_s], eva_x[:n_s], marker='.', color='cadetblue', label='Direct Eigenvalues', alpha=0.5)\n",
    "_ = ax[0].plot(idxs[:n_s], eva_k[:n_s], marker='.', color='firebrick', label='Reciprocal eigenvalues', alpha=0.5)\n",
    "_ = ax[0].legend()\n",
    "_ = ax[1].set_title(' Absolute difference')\n",
    "_ = ax[1].set_ylabel(r'$E_k - E_x$')\n",
    "_ = ax[1].set_xlabel('State index')\n",
    "_ = ax[1].plot(idxs[:n_s], (eva_k[:n_s] - eva_x[:n_s] ) , marker='.', color='coral', label='Difference')\n",
    "plt.show()\n",
    "#fig.savefig('w_eva_confrontation.png')"
   ]
  },
  {
   "cell_type": "code",
   "execution_count": null,
   "metadata": {},
   "outputs": [],
   "source": [
    "# Fourier transform comparison\n",
    "plt.close('all')\n",
    "fig, ax = plt.subplots(2,2, figsize=(9,12))\n",
    "plt.subplots_adjust(wspace=0.3)\n",
    "data = np.loadtxt('../Output/fourier.txt')\n",
    "x = data[:,0]\n",
    "re_f = data[:,1]\n",
    "k = data[:,2]\n",
    "re_F = data[:,3]\n",
    "im_F = data[:,4]\n",
    "re_at_f = data[:,5]\n",
    "\n",
    "#\n",
    "_ = ax[0,0].set_ylabel(r'$f$')\n",
    "_ = ax[0,0].set_xlabel(r'$x$')\n",
    "_ = ax[0,1].set_ylabel(r'$F^{-1}$')\n",
    "_ = ax[0,1].set_xlabel(r'x')\n",
    "_ = ax[0,0].plot(x, re_f, marker='.', color='cadetblue')\n",
    "_ = ax[0,1].plot(x, re_at_f, marker='.', color='cadetblue')\n",
    "#\n",
    "_ = ax[1,0].set_ylabel(r'Re$(F)$')\n",
    "_ = ax[1,0].set_xlabel(r'$k$')\n",
    "_ = ax[1,1].set_ylabel(r'Im$(F)$')\n",
    "_ = ax[1,1].set_xlabel(r'k')\n",
    "_ = ax[1,0].plot(k[:n_s], re_F[:n_s], marker='.', color='firebrick')\n",
    "_ = ax[1,1].plot(k[:n_s], im_F[:n_s], marker='.', color='firebrick')\n",
    "#\n",
    "plt.show()\n",
    "#fig.savefig('w_four.png')"
   ]
  },
  {
   "cell_type": "code",
   "execution_count": null,
   "metadata": {},
   "outputs": [],
   "source": []
  }
 ],
 "metadata": {
  "kernelspec": {
   "display_name": "Python 3.8.3 64-bit ('base': conda)",
   "language": "python",
   "name": "python38364bitbaseconda082df9ab3d21459f8bcbf533b97b1d44"
  },
  "language_info": {
   "codemirror_mode": {
    "name": "ipython",
    "version": 3
   },
   "file_extension": ".py",
   "mimetype": "text/x-python",
   "name": "python",
   "nbconvert_exporter": "python",
   "pygments_lexer": "ipython3",
   "version": "3.8.3-final"
  }
 },
 "nbformat": 4,
 "nbformat_minor": 4
}